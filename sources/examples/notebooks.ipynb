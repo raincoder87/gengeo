{
 "cells": [
  {
   "cell_type": "markdown",
   "id": "a2ce4a94",
   "metadata": {},
   "source": [
    "# Jupyter Notebooks\n",
    "\n",
    "This page was written for [MyST-NB](https://myst-nb.readthedocs.io/).\n",
    "It demonstrates `sphinx-thebe`'s usage with Jupyter Notebooks.\n",
    "\n",
    "Activate Thebe by clicking the launch button below.\n",
    "You should then be able to run and edit the code cell in the notebook.\n",
    "\n",
    "```{thebe-button} Launch thebe\n",
    "```\n",
    "\n",
    "The outputs should be displayed below, but they will be collected by `sphinx-thebe` when it is activated so that they are cleared when you first run the cell."
   ]
  },
  {
   "cell_type": "code",
   "execution_count": 1,
   "id": "746c7888",
   "metadata": {},
   "outputs": [
    {
     "ename": "ModuleNotFoundError",
     "evalue": "No module named 'matplotlib'",
     "output_type": "error",
     "traceback": [
      "\u001b[0;31m---------------------------------------------------------------------------\u001b[0m",
      "\u001b[0;31mModuleNotFoundError\u001b[0m                       Traceback (most recent call last)",
      "Input \u001b[0;32mIn [1]\u001b[0m, in \u001b[0;36m<cell line: 2>\u001b[0;34m()\u001b[0m\n\u001b[1;32m      1\u001b[0m \u001b[38;5;28;01mimport\u001b[39;00m \u001b[38;5;21;01mnumpy\u001b[39;00m \u001b[38;5;28;01mas\u001b[39;00m \u001b[38;5;21;01mnp\u001b[39;00m\n\u001b[0;32m----> 2\u001b[0m \u001b[38;5;28;01mimport\u001b[39;00m \u001b[38;5;21;01mmatplotlib\u001b[39;00m\u001b[38;5;21;01m.\u001b[39;00m\u001b[38;5;21;01mpyplot\u001b[39;00m \u001b[38;5;28;01mas\u001b[39;00m \u001b[38;5;21;01mplt\u001b[39;00m\n\u001b[1;32m      4\u001b[0m \u001b[38;5;66;03m# Create some fake data\u001b[39;00m\n\u001b[1;32m      5\u001b[0m data \u001b[38;5;241m=\u001b[39m np\u001b[38;5;241m.\u001b[39mrandom\u001b[38;5;241m.\u001b[39mrandn(\u001b[38;5;241m3\u001b[39m, \u001b[38;5;241m1000\u001b[39m)\n",
      "\u001b[0;31mModuleNotFoundError\u001b[0m: No module named 'matplotlib'"
     ]
    }
   ],
   "source": [
    "import numpy as np\n",
    "import matplotlib.pyplot as plt\n",
    "\n",
    "# Create some fake data\n",
    "data = np.random.randn(3, 1000)\n",
    "\n",
    "# Create a figure\n",
    "fig, ax = plt.subplots()\n",
    "\n",
    "# Plot data\n",
    "ax.scatter(data[0], data[1], c=np.abs(data[2]), s=np.abs(data[2])*100)"
   ]
  },
  {
   "cell_type": "markdown",
   "id": "1650a0c3",
   "metadata": {},
   "source": [
    "## Code style\n",
    "\n",
    "Thebe uses CodeMirror in the background, which uses different styles than pygments, which is used for static code syntax highlighting.\n",
    "\n",
    "The below code block is **static** and will not be converted with `thebe`.\n",
    "We include it in order to compare the active Thebe cell's syntax highlighting with an inactive cell.\n",
    "\n",
    "```\n",
    "import numpy as np\n",
    "import matplotlib.pyplot as plt\n",
    "\n",
    "# Create some fake data\n",
    "data = np.random.randn(3, 1000)\n",
    "\n",
    "# Create a figure\n",
    "fig, ax = plt.subplots()\n",
    "\n",
    "# Plot data\n",
    "ax.scatter(data[0], data[1], c=np.abs(data[2]), s=np.abs(data[2])*100)\n",
    "```"
   ]
  }
 ],
 "metadata": {
  "jupytext": {
   "formats": "md:myst",
   "text_representation": {
    "extension": ".md",
    "format_name": "myst"
   }
  },
  "kernelspec": {
   "display_name": "Python 3",
   "language": "python",
   "name": "python3"
  },
  "language_info": {
   "codemirror_mode": {
    "name": "ipython",
    "version": 3
   },
   "file_extension": ".py",
   "mimetype": "text/x-python",
   "name": "python",
   "nbconvert_exporter": "python",
   "pygments_lexer": "ipython3",
   "version": "3.10.2"
  },
  "source_map": [
   11,
   26,
   38
  ]
 },
 "nbformat": 4,
 "nbformat_minor": 5
}